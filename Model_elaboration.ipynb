{
  "nbformat": 4,
  "nbformat_minor": 0,
  "metadata": {
    "colab": {
      "name": "Model elaboration",
      "version": "0.3.2",
      "provenance": [],
      "collapsed_sections": [
        "Hakxsddgq4Rf",
        "ZuWowAD7qany",
        "Own_b8-o1bsA",
        "rS3lyUCWRG47",
        "yet9vcRlZ8hV",
        "h35gy01QLV2T",
        "_19g6ulyLeTh",
        "diQuGipM_ADY",
        "DzVz_qR-uFC1",
        "O-UujWLut-hc"
      ],
      "toc_visible": true,
      "include_colab_link": true
    },
    "kernelspec": {
      "name": "python3",
      "display_name": "Python 3"
    },
    "accelerator": "GPU"
  },
  "cells": [
    {
      "cell_type": "markdown",
      "metadata": {
        "id": "view-in-github",
        "colab_type": "text"
      },
      "source": [
        "<a href=\"https://colab.research.google.com/github/gDan15/AI_colab/blob/master/Model_elaboration.ipynb\" target=\"_parent\"><img src=\"https://colab.research.google.com/assets/colab-badge.svg\" alt=\"Open In Colab\"/></a>"
      ]
    },
    {
      "cell_type": "markdown",
      "metadata": {
        "id": "Hakxsddgq4Rf",
        "colab_type": "text"
      },
      "source": [
        "## Check and install tensorflow"
      ]
    },
    {
      "cell_type": "code",
      "metadata": {
        "id": "53UakeiRfSph",
        "colab_type": "code",
        "outputId": "04e34a4d-59cf-46e4-8d4b-16efd712d89d",
        "colab": {
          "base_uri": "https://localhost:8080/",
          "height": 207
        }
      },
      "source": [
        "# To determine which version you're using:\n",
        "!pip show tensorflow"
      ],
      "execution_count": 0,
      "outputs": [
        {
          "output_type": "stream",
          "text": [
            "Name: tensorflow\n",
            "Version: 1.14.0rc0\n",
            "Summary: TensorFlow is an open source machine learning framework for everyone.\n",
            "Home-page: https://www.tensorflow.org/\n",
            "Author: Google Inc.\n",
            "Author-email: packages@tensorflow.org\n",
            "License: Apache 2.0\n",
            "Location: /usr/local/lib/python3.6/dist-packages\n",
            "Requires: six, tensorboard, keras-preprocessing, gast, absl-py, astor, wheel, wrapt, google-pasta, tf-estimator-nightly, numpy, protobuf, grpcio, termcolor, keras-applications\n",
            "Required-by: stable-baselines, magenta, fancyimpute\n"
          ],
          "name": "stdout"
        }
      ]
    },
    {
      "cell_type": "code",
      "metadata": {
        "id": "AAJcJwtS_LiM",
        "colab_type": "code",
        "colab": {}
      },
      "source": [
        "# For the current version: \n",
        "# !pip install --upgrade tensorflow\n",
        "\n",
        "# For installing previous version\n",
        " !pip install tensorflow==1.14.0rc0\n",
        "\n",
        "# For the latest nightly build:\n",
        "# !pip install tf-nightly"
      ],
      "execution_count": 0,
      "outputs": []
    },
    {
      "cell_type": "code",
      "metadata": {
        "id": "mcK7ah9lVftc",
        "colab_type": "code",
        "outputId": "a43faccf-60ad-44c9-8ef3-3b5a834648db",
        "colab": {
          "base_uri": "https://localhost:8080/",
          "height": 71
        }
      },
      "source": [
        "!pip install Pillow"
      ],
      "execution_count": 0,
      "outputs": [
        {
          "output_type": "stream",
          "text": [
            "Requirement already satisfied: Pillow in /usr/local/lib/python3.6/dist-packages (4.3.0)\n",
            "Requirement already satisfied: olefile in /usr/local/lib/python3.6/dist-packages (from Pillow) (0.46)\n"
          ],
          "name": "stdout"
        }
      ]
    },
    {
      "cell_type": "markdown",
      "metadata": {
        "id": "ZuWowAD7qany",
        "colab_type": "text"
      },
      "source": [
        "## Load files"
      ]
    },
    {
      "cell_type": "code",
      "metadata": {
        "id": "O3mgNy9jQUSB",
        "colab_type": "code",
        "colab": {}
      },
      "source": [
        "from google.colab import drive\n",
        "drive.mount('/content/gdrive')"
      ],
      "execution_count": 0,
      "outputs": []
    },
    {
      "cell_type": "code",
      "metadata": {
        "id": "tMZensSXiRw3",
        "colab_type": "code",
        "outputId": "0d4e0f7f-6e76-4456-c576-74eb40cf94f6",
        "colab": {
          "base_uri": "https://localhost:8080/",
          "height": 34
        }
      },
      "source": [
        "pwd"
      ],
      "execution_count": 0,
      "outputs": [
        {
          "output_type": "execute_result",
          "data": {
            "text/plain": [
              "'/content'"
            ]
          },
          "metadata": {
            "tags": []
          },
          "execution_count": 3
        }
      ]
    },
    {
      "cell_type": "code",
      "metadata": {
        "id": "k_XyfZEkuQM0",
        "colab_type": "code",
        "outputId": "e2b56150-e7bb-458d-ab82-1a7998b7ea27",
        "colab": {
          "base_uri": "https://localhost:8080/",
          "height": 34
        }
      },
      "source": [
        "cd /content/gdrive/My\\ Drive/Colab Notebooks/"
      ],
      "execution_count": 0,
      "outputs": [
        {
          "output_type": "stream",
          "text": [
            "/content/gdrive/My Drive/Colab Notebooks\n"
          ],
          "name": "stdout"
        }
      ]
    },
    {
      "cell_type": "code",
      "metadata": {
        "id": "YuiiVHJIkB88",
        "colab_type": "code",
        "outputId": "a0381230-71e5-44a4-8a83-55e131456595",
        "colab": {
          "base_uri": "https://localhost:8080/",
          "height": 51
        }
      },
      "source": [
        "ls"
      ],
      "execution_count": 0,
      "outputs": [
        {
          "output_type": "stream",
          "text": [
            " AI.ipynb       drive.ipynb    \u001b[0m\u001b[01;34mIMG_heavy\u001b[0m/   \u001b[01;34mIMG_old\u001b[0m/             test.ipynb\n",
            " \u001b[01;34mcheckpoints\u001b[0m/   \u001b[01;34mdriving_log\u001b[0m/   \u001b[01;34mIMG_light\u001b[0m/  'Model elaboration'\n"
          ],
          "name": "stdout"
        }
      ]
    },
    {
      "cell_type": "markdown",
      "metadata": {
        "id": "4YQZoCLjqimh",
        "colab_type": "text"
      },
      "source": [
        "## Packages"
      ]
    },
    {
      "cell_type": "code",
      "metadata": {
        "id": "uTCzgDaX-Lz5",
        "colab_type": "code",
        "colab": {}
      },
      "source": [
        "import csv, random, numpy as np\n",
        "import tensorflow as tf\n",
        "import PIL\n",
        "from tensorflow.keras import datasets, layers, models\n",
        "from tensorflow.keras.preprocessing.image import img_to_array, load_img, random_shift\n",
        "from tensorflow.keras.models import load_model, Sequential\n",
        "from PIL import Image\n",
        "from tensorflow.keras.callbacks import TensorBoard\n",
        "\n",
        "# from tensorflow.keras.models import load_model, Sequential\n",
        "# from tensorflow.keras.layers import Dense, Dropout, Flatten\n",
        "# from tensorflow.keras.layers.convolutional import Convolution2D, MaxPooling2D\n",
        "# from tensorflow.keras.preprocessing.image import img_to_array, load_img, flip_axis, random_shift"
      ],
      "execution_count": 0,
      "outputs": []
    },
    {
      "cell_type": "markdown",
      "metadata": {
        "id": "3g2shetCqp2s",
        "colab_type": "text"
      },
      "source": [
        "## Model"
      ]
    },
    {
      "cell_type": "code",
      "metadata": {
        "id": "7cOA6uv8h3GG",
        "colab_type": "code",
        "colab": {}
      },
      "source": [
        "def model(load, shape, checkpoint=None):\n",
        "  if load and checkpoint: return load_model(checkpoint)\n",
        "  conv_layers, dense_layers = [32, 32, 64, 120], [1024, 512]\n",
        "  model = tf.keras.models.Sequential()\n",
        "  model.add(layers.Conv2D(32, 3, strides=1, activation='elu', input_shape=shape))\n",
        "  model.add(layers.MaxPooling2D())\n",
        "  for cl in conv_layers:\n",
        "      model.add(layers.Conv2D(filters=cl, kernel_size=3, strides=1, activation='elu'))\n",
        "      model.add(layers.MaxPooling2D())\n",
        "  model.add(layers.Flatten())\n",
        "  for dl in dense_layers:\n",
        "      model.add(layers.Dense(dl, activation='elu'))\n",
        "      model.add(layers.Dropout(0.5))\n",
        "  model.add(layers.Dense(1, activation='linear'))\n",
        "#   tensorboard = TensorBoard(log_dir=\"logs/{}\".format(NAME))\n",
        "  model.compile(loss='mse', optimizer=\"adam\", metrics=['accuracy'])\n",
        "  return model"
      ],
      "execution_count": 0,
      "outputs": []
    },
    {
      "cell_type": "markdown",
      "metadata": {
        "id": "Own_b8-o1bsA",
        "colab_type": "text"
      },
      "source": [
        "### Testing model"
      ]
    },
    {
      "cell_type": "code",
      "metadata": {
        "id": "zGOrqXRs1ZrF",
        "colab_type": "code",
        "outputId": "72d9e108-96b1-4309-8637-5c12598c2317",
        "colab": {
          "base_uri": "https://localhost:8080/",
          "height": 697
        }
      },
      "source": [
        "net = model(load=False, shape=(100, 100, 3))\n",
        "net.summary()"
      ],
      "execution_count": 0,
      "outputs": [
        {
          "output_type": "stream",
          "text": [
            "Model: \"sequential_26\"\n",
            "_________________________________________________________________\n",
            "Layer (type)                 Output Shape              Param #   \n",
            "=================================================================\n",
            "conv2d_132 (Conv2D)          (None, 98, 98, 32)        896       \n",
            "_________________________________________________________________\n",
            "max_pooling2d_124 (MaxPoolin (None, 49, 49, 32)        0         \n",
            "_________________________________________________________________\n",
            "conv2d_133 (Conv2D)          (None, 47, 47, 32)        9248      \n",
            "_________________________________________________________________\n",
            "max_pooling2d_125 (MaxPoolin (None, 23, 23, 32)        0         \n",
            "_________________________________________________________________\n",
            "conv2d_134 (Conv2D)          (None, 21, 21, 32)        9248      \n",
            "_________________________________________________________________\n",
            "max_pooling2d_126 (MaxPoolin (None, 10, 10, 32)        0         \n",
            "_________________________________________________________________\n",
            "conv2d_135 (Conv2D)          (None, 8, 8, 64)          18496     \n",
            "_________________________________________________________________\n",
            "max_pooling2d_127 (MaxPoolin (None, 4, 4, 64)          0         \n",
            "_________________________________________________________________\n",
            "conv2d_136 (Conv2D)          (None, 2, 2, 392)         226184    \n",
            "_________________________________________________________________\n",
            "max_pooling2d_128 (MaxPoolin (None, 1, 1, 392)         0         \n",
            "_________________________________________________________________\n",
            "flatten_18 (Flatten)         (None, 392)               0         \n",
            "_________________________________________________________________\n",
            "dense_54 (Dense)             (None, 1024)              402432    \n",
            "_________________________________________________________________\n",
            "dropout_36 (Dropout)         (None, 1024)              0         \n",
            "_________________________________________________________________\n",
            "dense_55 (Dense)             (None, 512)               524800    \n",
            "_________________________________________________________________\n",
            "dropout_37 (Dropout)         (None, 512)               0         \n",
            "_________________________________________________________________\n",
            "dense_56 (Dense)             (None, 1)                 513       \n",
            "=================================================================\n",
            "Total params: 1,191,817\n",
            "Trainable params: 1,191,817\n",
            "Non-trainable params: 0\n",
            "_________________________________________________________________\n"
          ],
          "name": "stdout"
        }
      ]
    },
    {
      "cell_type": "markdown",
      "metadata": {
        "id": "TLfxkUrVgdYo",
        "colab_type": "text"
      },
      "source": [
        "## Process data"
      ]
    },
    {
      "cell_type": "code",
      "metadata": {
        "id": "9dlPhy-POeox",
        "colab_type": "code",
        "colab": {}
      },
      "source": [
        "def get_X_y(data_file, img):\n",
        "    \"\"\"Read the log file and turn it into X/y pairs. Add an offset to left images, remove from right images.\"\"\"\n",
        "    X, y = [], []\n",
        "    # 0.4\n",
        "    steering_offset = 0\n",
        "    with open(data_file) as fin:\n",
        "        for center_img, left_img, right_img, steering_angle, _, _, speed in csv.reader(fin):\n",
        "            if float(speed) < 20: continue  # throw away low-speed samples\n",
        "#            if abs(float(steering_angle)) < 0.05: continue\n",
        "            left_img = left_img.strip()\n",
        "            left_img = \"/content/gdrive/My Drive/Colab Notebooks/\" + img + \"/\" + left_img.split(\"/\")[-1]\n",
        "            right_img = left_img.strip()\n",
        "            right_img = \"/content/gdrive/My Drive/Colab Notebooks/\" + img + \"/\" + right_img.split(\"/\")[-1]\n",
        "            center_img = center_img.strip()\n",
        "            center_img = \"/content/gdrive/My Drive/Colab Notebooks/\" + img + \"/\" + center_img.split(\"/\")[-1]\n",
        "#             X += [left_img, right_img, center_img]\n",
        "            X += [center_img]\n",
        "            y += [float(steering_angle) + steering_offset, float(steering_angle) - steering_offset]\n",
        "    return X, y"
      ],
      "execution_count": 0,
      "outputs": []
    },
    {
      "cell_type": "code",
      "metadata": {
        "id": "tcRz6PtHjvHc",
        "colab_type": "code",
        "colab": {}
      },
      "source": [
        "# X, y = get_X_y('/content/gdrive/My Drive/Colab Notebooks/driving_log/driving_log_16_06.csv')\n",
        "# print(X)\n",
        "# print(y)"
      ],
      "execution_count": 0,
      "outputs": []
    },
    {
      "cell_type": "markdown",
      "metadata": {
        "id": "rS3lyUCWRG47",
        "colab_type": "text"
      },
      "source": [
        "## Process image"
      ]
    },
    {
      "cell_type": "code",
      "metadata": {
        "id": "tWHGeTjjnFni",
        "colab_type": "code",
        "colab": {}
      },
      "source": [
        "def process_image(path, steering_angle, augment, shape=(100,100)):\n",
        "    \"\"\"Process and augment an image.\"\"\"\n",
        "    image = Image.open(path)\n",
        "    image = resize_image(image)\n",
        "#     image = load_img(path, target_size=shape)\n",
        "    \n",
        "    if augment and random.random() < 0.5:\n",
        "         image = random_darken(image)  # before numpy'd\n",
        "\n",
        "    image = img_to_array(image)\n",
        "        \n",
        "    if augment:\n",
        "        image = random_shift(image, 0, 0.2, 0, 1, 2)  # only vertical\n",
        "        if random.random() < 0.5:\n",
        "#            image = apply_transform(image, \"flip_horizontal\")\n",
        "            steering_angle = -steering_angle\n",
        "\n",
        "    image = (image / 255. - .5).astype(np.float32)\n",
        "    return image, steering_angle"
      ],
      "execution_count": 0,
      "outputs": []
    },
    {
      "cell_type": "code",
      "metadata": {
        "id": "NxngiFYiUe8U",
        "colab_type": "code",
        "colab": {}
      },
      "source": [
        "def random_darken(image):\n",
        "    \"\"\"Given an image (from Image.open), randomly darken a part of it.\"\"\"\n",
        "    #grace_hopper = tf.keras.utils.get_file(image_path)\n",
        "    \n",
        "    w, h = image.size\n",
        "\n",
        "    # Make a random box.\n",
        "    x1, y1 = random.randint(0, w), random.randint(0, h)\n",
        "    x2, y2 = random.randint(x1, w), random.randint(y1, h)\n",
        "\n",
        "    # Loop through every pixel of our box (*GASP*) and darken.\n",
        "    for i in range(x1, x2):\n",
        "        for j in range(y1, y2):\n",
        "            new_value = tuple([int(x * 0.5) for x in image.getpixel((i, j))])\n",
        "            image.putpixel((i, j), new_value)\n",
        "    return image"
      ],
      "execution_count": 0,
      "outputs": []
    },
    {
      "cell_type": "code",
      "metadata": {
        "id": "mQ3R8NavTCJc",
        "colab_type": "code",
        "colab": {}
      },
      "source": [
        "def resize_image(image):\n",
        "    image = image.crop((0, 60, 320, 160))\n",
        "    image = image.resize((100,100), Image.ANTIALIAS)\n",
        "    return image\n",
        "    "
      ],
      "execution_count": 0,
      "outputs": []
    },
    {
      "cell_type": "markdown",
      "metadata": {
        "id": "yet9vcRlZ8hV",
        "colab_type": "text"
      },
      "source": [
        "### Test process image"
      ]
    },
    {
      "cell_type": "markdown",
      "metadata": {
        "id": "h35gy01QLV2T",
        "colab_type": "text"
      },
      "source": [
        "#### Random_darken"
      ]
    },
    {
      "cell_type": "code",
      "metadata": {
        "id": "H7LUhQ1sMZ3t",
        "colab_type": "code",
        "colab": {}
      },
      "source": [
        "path = \"IMG_light/center_2019_06_16_19_11_36_418.jpg\""
      ],
      "execution_count": 0,
      "outputs": []
    },
    {
      "cell_type": "code",
      "metadata": {
        "id": "huDu8AxcVtw4",
        "colab_type": "code",
        "outputId": "787c60fb-b4d5-4bad-8e31-90de6d793d6c",
        "colab": {
          "base_uri": "https://localhost:8080/",
          "height": 320
        }
      },
      "source": [
        "i = Image.open(path)\n",
        "random_darken(i)"
      ],
      "execution_count": 115,
      "outputs": [
        {
          "output_type": "error",
          "ename": "OSError",
          "evalue": "ignored",
          "traceback": [
            "\u001b[0;31m---------------------------------------------------------------------------\u001b[0m",
            "\u001b[0;31mOSError\u001b[0m                                   Traceback (most recent call last)",
            "\u001b[0;32m<ipython-input-115-c5bd78313c1e>\u001b[0m in \u001b[0;36m<module>\u001b[0;34m()\u001b[0m\n\u001b[0;32m----> 1\u001b[0;31m \u001b[0mi\u001b[0m \u001b[0;34m=\u001b[0m \u001b[0mImage\u001b[0m\u001b[0;34m.\u001b[0m\u001b[0mopen\u001b[0m\u001b[0;34m(\u001b[0m\u001b[0mpath\u001b[0m\u001b[0;34m)\u001b[0m\u001b[0;34m\u001b[0m\u001b[0;34m\u001b[0m\u001b[0m\n\u001b[0m\u001b[1;32m      2\u001b[0m \u001b[0mrandom_darken\u001b[0m\u001b[0;34m(\u001b[0m\u001b[0mi\u001b[0m\u001b[0;34m)\u001b[0m\u001b[0;34m\u001b[0m\u001b[0;34m\u001b[0m\u001b[0m\n",
            "\u001b[0;32m/usr/local/lib/python3.6/dist-packages/PIL/Image.py\u001b[0m in \u001b[0;36mopen\u001b[0;34m(fp, mode)\u001b[0m\n\u001b[1;32m   2570\u001b[0m         \u001b[0mfp\u001b[0m\u001b[0;34m.\u001b[0m\u001b[0mclose\u001b[0m\u001b[0;34m(\u001b[0m\u001b[0;34m)\u001b[0m\u001b[0;34m\u001b[0m\u001b[0;34m\u001b[0m\u001b[0m\n\u001b[1;32m   2571\u001b[0m     raise IOError(\"cannot identify image file %r\"\n\u001b[0;32m-> 2572\u001b[0;31m                   % (filename if filename else fp))\n\u001b[0m\u001b[1;32m   2573\u001b[0m \u001b[0;34m\u001b[0m\u001b[0m\n\u001b[1;32m   2574\u001b[0m \u001b[0;31m#\u001b[0m\u001b[0;34m\u001b[0m\u001b[0;34m\u001b[0m\u001b[0;34m\u001b[0m\u001b[0m\n",
            "\u001b[0;31mOSError\u001b[0m: cannot identify image file '/content/gdrive/My Drive/Colab Notebooks/driving_log/driving_log_heavy.csv'"
          ]
        }
      ]
    },
    {
      "cell_type": "markdown",
      "metadata": {
        "id": "_19g6ulyLeTh",
        "colab_type": "text"
      },
      "source": [
        "#### Crop and resize"
      ]
    },
    {
      "cell_type": "code",
      "metadata": {
        "id": "PF9PYJ8DLigk",
        "colab_type": "code",
        "outputId": "998616fe-f2ed-4f79-c3aa-f967064781e1",
        "colab": {
          "base_uri": "https://localhost:8080/",
          "height": 181
        }
      },
      "source": [
        "image = Image.open(path)\n",
        "resize_image(image) "
      ],
      "execution_count": 0,
      "outputs": [
        {
          "output_type": "error",
          "ename": "NameError",
          "evalue": "ignored",
          "traceback": [
            "\u001b[0;31m---------------------------------------------------------------------------\u001b[0m",
            "\u001b[0;31mNameError\u001b[0m                                 Traceback (most recent call last)",
            "\u001b[0;32m<ipython-input-16-5624fb87bc22>\u001b[0m in \u001b[0;36m<module>\u001b[0;34m()\u001b[0m\n\u001b[0;32m----> 1\u001b[0;31m \u001b[0mimage\u001b[0m \u001b[0;34m=\u001b[0m \u001b[0mImage\u001b[0m\u001b[0;34m.\u001b[0m\u001b[0mopen\u001b[0m\u001b[0;34m(\u001b[0m\u001b[0mpath\u001b[0m\u001b[0;34m)\u001b[0m\u001b[0;34m\u001b[0m\u001b[0;34m\u001b[0m\u001b[0m\n\u001b[0m\u001b[1;32m      2\u001b[0m \u001b[0mresize_image\u001b[0m\u001b[0;34m(\u001b[0m\u001b[0mimage\u001b[0m\u001b[0;34m)\u001b[0m\u001b[0;34m\u001b[0m\u001b[0;34m\u001b[0m\u001b[0m\n",
            "\u001b[0;31mNameError\u001b[0m: name 'path' is not defined"
          ]
        }
      ]
    },
    {
      "cell_type": "markdown",
      "metadata": {
        "id": "QDrfWei6quCz",
        "colab_type": "text"
      },
      "source": [
        "## Train model"
      ]
    },
    {
      "cell_type": "markdown",
      "metadata": {
        "id": "diQuGipM_ADY",
        "colab_type": "text"
      },
      "source": [
        "### Generator"
      ]
    },
    {
      "cell_type": "code",
      "metadata": {
        "id": "ZvRxilCRM3K2",
        "colab_type": "code",
        "colab": {}
      },
      "source": [
        "def _generator(batch_size, X, y):\n",
        "    \"\"\"Generate batches of training data forever.\"\"\"\n",
        "    print(len(X))\n",
        "    while 1:\n",
        "        batch_X, batch_y = [], []\n",
        "        for i in range(batch_size):\n",
        "            sample_index = random.randint(0, len(X) - 1)\n",
        "            sa = y[sample_index]\n",
        "            try:\n",
        "              image, sa = process_image(X[sample_index], sa, augment=True)\n",
        "              batch_X.append(image)\n",
        "              batch_y.append(sa)\n",
        "            except FileNotFoundError:\n",
        "              print(\"File not found : \" + X[sample_index])\n",
        "              next\n",
        "        yield np.array(batch_X), np.array(batch_y)\n"
      ],
      "execution_count": 0,
      "outputs": []
    },
    {
      "cell_type": "code",
      "metadata": {
        "id": "gHzvVq9HNBfd",
        "colab_type": "code",
        "colab": {}
      },
      "source": [
        "path_validation = \"/content/gdrive/My Drive/Colab Notebooks/driving_log/driving_log_heavy.csv\"\n",
        "img_validation = \"IMG_heavy\"\n",
        "test_validation = validation_set(path_validation, img_validation)\n",
        "def train():\n",
        "    \"\"\"Load our network and our data, fit the model, save it.\"\"\"\n",
        "    driving_log = \"driving_log_heavy.csv\"\n",
        "    img = \"IMG_heavy\"\n",
        "    net = model(load=False, shape=(100, 100, 3))\n",
        "#     net = model(load=True, shape=(100, 100, 3), checkpoint='checkpoints/short_light.h1')\n",
        "    X, y = get_X_y('/content/gdrive/My Drive/Colab Notebooks/driving_log/' + driving_log, img)\n",
        "#     net.fit_generator(_generator(100, X, y), steps_per_epoch=1, epochs=1, validation_data=test_validation)\n",
        "    net.fit_generator(_generator(256, X, y), steps_per_epoch=50, epochs=160)\n",
        "    net.save('checkpoints/short_heavy.h5_9')\n",
        "    \n",
        "    driving_log = \"driving_log_light.csv\"\n",
        "    img = \"IMG_light\"\n",
        "    \"\"\"Load our network and our data, fit the model, save it.\"\"\"\n",
        "    net = model(load=False, shape=(100, 100, 3))\n",
        "#     net = model(load=True, shape=(100, 100, 3), checkpoint='checkpoints/short_light.h1')\n",
        "    X, y = get_X_y('/content/gdrive/My Drive/Colab Notebooks/driving_log/' + driving_log, img)\n",
        "#     net.fit_generator(_generator(100, X, y), steps_per_epoch=1, epochs=1, validation_data=test_validation)\n",
        "    net.fit_generator(_generator(256, X, y), steps_per_epoch=50, epochs=160)\n",
        "    net.save('checkpoints/short_light.h1_4')"
      ],
      "execution_count": 0,
      "outputs": []
    },
    {
      "cell_type": "code",
      "metadata": {
        "id": "TMltp87LiqQA",
        "colab_type": "code",
        "colab": {}
      },
      "source": [
        "def load(checkpoint):\n",
        "  return load_model(checkpoint)"
      ],
      "execution_count": 0,
      "outputs": []
    },
    {
      "cell_type": "code",
      "metadata": {
        "id": "6G1MBp6VsYA0",
        "colab_type": "code",
        "outputId": "e91bc1da-9020-427d-af11-d6cffd99bcc0",
        "colab": {
          "base_uri": "https://localhost:8080/",
          "height": 34
        }
      },
      "source": [
        "cd /content/gdrive/My\\ Drive/Colab Notebooks/"
      ],
      "execution_count": 0,
      "outputs": [
        {
          "output_type": "stream",
          "text": [
            "/content/gdrive/My Drive/Colab Notebooks\n"
          ],
          "name": "stdout"
        }
      ]
    },
    {
      "cell_type": "markdown",
      "metadata": {
        "id": "mnxlNNNJ_E0K",
        "colab_type": "text"
      },
      "source": [
        "### Start"
      ]
    },
    {
      "cell_type": "code",
      "metadata": {
        "id": "8Byn98rkNCx9",
        "colab_type": "code",
        "colab": {}
      },
      "source": [
        "if __name__ == '__main__':\n",
        "  train()\n",
        "#     net = .load('checkpoints/short_doesnt_work.h5')\n",
        "#     print(net)"
      ],
      "execution_count": 0,
      "outputs": []
    },
    {
      "cell_type": "markdown",
      "metadata": {
        "id": "DzVz_qR-uFC1",
        "colab_type": "text"
      },
      "source": [
        "## Validation set"
      ]
    },
    {
      "cell_type": "code",
      "metadata": {
        "id": "hrx9GuCwdotx",
        "colab_type": "code",
        "colab": {}
      },
      "source": [
        "def validation_set(data_file, img):\n",
        "  i = 0\n",
        "  X, y, test_x, test_y = [], [], [], []\n",
        "  with open(data_file) as fin:\n",
        "    for center_img, _, _, steering_angle, _, _, speed in csv.reader(fin):\n",
        "      if float(speed) < 20: continue  # throw away low-speed samples\n",
        "      center_img = center_img.strip()\n",
        "      center_img = \"/content/gdrive/My Drive/Colab Notebooks/\" + img + \"/\" + center_img.split(\"/\")[-1]\n",
        "      X += [center_img]\n",
        "      y += [float(steering_angle)]\n",
        "      i+=1\n",
        "      if i == 20: break\n",
        "  for source, target in zip(X, y):\n",
        "    try:\n",
        "      image, sa = process_image(source, target, augment=True)\n",
        "      test_x.append(image)\n",
        "      test_y.append(sa)\n",
        "    except FileNotFoundError:\n",
        "      print(\"File not found : \" + X[sample_index])\n",
        "      next\n",
        "  return (test_x, test_y)"
      ],
      "execution_count": 0,
      "outputs": []
    },
    {
      "cell_type": "code",
      "metadata": {
        "id": "sF3QNzWnjK0_",
        "colab_type": "code",
        "colab": {}
      },
      "source": [
        "path = \"/content/gdrive/My Drive/Colab Notebooks/driving_log/driving_log_light.csv\"\n",
        "img = \"IMG_light\"\n",
        "validation_set(path, img)"
      ],
      "execution_count": 0,
      "outputs": []
    },
    {
      "cell_type": "markdown",
      "metadata": {
        "id": "O-UujWLut-hc",
        "colab_type": "text"
      },
      "source": [
        "## Validate model"
      ]
    },
    {
      "cell_type": "code",
      "metadata": {
        "id": "3jxfC52exIta",
        "colab_type": "code",
        "colab": {}
      },
      "source": [
        "def test_model(model, data_file, img):\n",
        "  X, y = [], []\n",
        "  with open(data_file) as fin:\n",
        "        for center_img, left_img, right_img, steering_angle, _, _, speed in csv.reader(fin):\n",
        "            if float(speed) < 20: continue  # throw away low-speed samples\n",
        "            center_img = center_img.strip()\n",
        "            center_img = \"/content/gdrive/My Drive/Colab Notebooks/\" + img + \"/\" + center_img.split(\"/\")[-1]\n",
        "#             X += [left_img, right_img, center_img]\n",
        "            image = Image.open(center_img)\n",
        "            image = resize_image(image)\n",
        "            image = img_to_array(image)\n",
        "            image = (image / 255. - .5).astype(np.float32)\n",
        "            #image = image.reshape((-1, 100, 100, 3))\n",
        "            X += [image]\n",
        "            y += [float(steering_angle)]\n",
        "  X = np.array(X)\n",
        "  print(\"Source : {0}, Target values : {1}\".format(len(X), len(y)))\n",
        "  results = model.evaluate(X, y, batch_size=100, steps=100)\n",
        "  return results"
      ],
      "execution_count": 0,
      "outputs": []
    },
    {
      "cell_type": "code",
      "metadata": {
        "id": "tuLx41DxAtKC",
        "colab_type": "code",
        "outputId": "f764197f-dc1e-498b-f95e-56f396812a98",
        "colab": {
          "base_uri": "https://localhost:8080/",
          "height": 68
        }
      },
      "source": [
        "net = model(load=True, shape=None, checkpoint='checkpoints/short_heavy.h5')\n",
        "path = \"/content/gdrive/My Drive/Colab Notebooks/driving_log/driving_log_heavy.csv\"\n",
        "img = \"IMG_heavy\"\n",
        "test_model(net, path, img)"
      ],
      "execution_count": 0,
      "outputs": [
        {
          "output_type": "stream",
          "text": [
            "Source : 4436, Target values : 4436\n",
            "100/100 [==============================] - 40s 400ms/step - loss: 0.0309 - acc: 0.8043\n"
          ],
          "name": "stdout"
        },
        {
          "output_type": "execute_result",
          "data": {
            "text/plain": [
              "[0.030883772298693657, 0.8043282]"
            ]
          },
          "metadata": {
            "tags": []
          },
          "execution_count": 67
        }
      ]
    }
  ]
}